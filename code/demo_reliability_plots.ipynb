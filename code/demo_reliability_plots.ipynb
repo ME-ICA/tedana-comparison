{
 "cells": [
  {
   "cell_type": "code",
   "execution_count": 1,
   "metadata": {},
   "outputs": [],
   "source": [
    "%matplotlib inline\n",
    "import os.path as op\n",
    "from glob import glob\n",
    "from collections import Counter\n",
    "\n",
    "import numpy as np\n",
    "import pandas as pd\n",
    "import seaborn as sns\n",
    "import matplotlib.pyplot as plt"
   ]
  },
  {
   "cell_type": "code",
   "execution_count": 2,
   "metadata": {},
   "outputs": [],
   "source": [
    "classes = ['accepted', 'ignored', 'rejected']\n",
    "ign_codes = ['I005', 'I007', 'I010', 'I011']\n",
    "rej_codes = ['I002', 'I003', 'I004', 'I006', 'I008', 'I009']\n",
    "all_codes = sorted(ign_codes + rej_codes)\n",
    "\n",
    "base_dir = '/scratch/tsalo006/reliability_analysis/tedana_outputs/'"
   ]
  },
  {
   "cell_type": "code",
   "execution_count": 3,
   "metadata": {},
   "outputs": [
    {
     "ename": "IndexError",
     "evalue": "single positional indexer is out-of-bounds",
     "output_type": "error",
     "traceback": [
      "\u001b[0;31m---------------------------------------------------------------------------\u001b[0m",
      "\u001b[0;31mIndexError\u001b[0m                                Traceback (most recent call last)",
      "\u001b[0;32m<ipython-input-3-457b1d26aa31>\u001b[0m in \u001b[0;36m<module>\u001b[0;34m\u001b[0m\n\u001b[1;32m     17\u001b[0m                          names=['time', 'module', 'level', 'message'])\n\u001b[1;32m     18\u001b[0m     \u001b[0mlog_df\u001b[0m\u001b[0;34m[\u001b[0m\u001b[0;34m'time'\u001b[0m\u001b[0;34m]\u001b[0m \u001b[0;34m=\u001b[0m \u001b[0mpd\u001b[0m\u001b[0;34m.\u001b[0m\u001b[0mto_datetime\u001b[0m\u001b[0;34m(\u001b[0m\u001b[0mlog_df\u001b[0m\u001b[0;34m[\u001b[0m\u001b[0;34m'time'\u001b[0m\u001b[0;34m]\u001b[0m\u001b[0;34m)\u001b[0m\u001b[0;34m\u001b[0m\u001b[0m\n\u001b[0;32m---> 19\u001b[0;31m     \u001b[0mduration\u001b[0m \u001b[0;34m=\u001b[0m \u001b[0mlog_df\u001b[0m\u001b[0;34m[\u001b[0m\u001b[0;34m'time'\u001b[0m\u001b[0;34m]\u001b[0m\u001b[0;34m.\u001b[0m\u001b[0miloc\u001b[0m\u001b[0;34m[\u001b[0m\u001b[0;34m-\u001b[0m\u001b[0;36m1\u001b[0m\u001b[0;34m]\u001b[0m \u001b[0;34m-\u001b[0m \u001b[0mlog_df\u001b[0m\u001b[0;34m[\u001b[0m\u001b[0;34m'time'\u001b[0m\u001b[0;34m]\u001b[0m\u001b[0;34m.\u001b[0m\u001b[0miloc\u001b[0m\u001b[0;34m[\u001b[0m\u001b[0;36m0\u001b[0m\u001b[0;34m]\u001b[0m\u001b[0;34m\u001b[0m\u001b[0m\n\u001b[0m\u001b[1;32m     20\u001b[0m     \u001b[0mminutes\u001b[0m \u001b[0;34m=\u001b[0m \u001b[0mduration\u001b[0m\u001b[0;34m.\u001b[0m\u001b[0mtotal_seconds\u001b[0m\u001b[0;34m(\u001b[0m\u001b[0;34m)\u001b[0m \u001b[0;34m/\u001b[0m \u001b[0;36m60.\u001b[0m\u001b[0;34m\u001b[0m\u001b[0m\n\u001b[1;32m     21\u001b[0m     \u001b[0mfailure\u001b[0m \u001b[0;34m=\u001b[0m \u001b[0many\u001b[0m\u001b[0;34m(\u001b[0m\u001b[0mlog_df\u001b[0m\u001b[0;34m[\u001b[0m\u001b[0;34m'message'\u001b[0m\u001b[0;34m]\u001b[0m\u001b[0;34m.\u001b[0m\u001b[0mstr\u001b[0m\u001b[0;34m.\u001b[0m\u001b[0mcontains\u001b[0m\u001b[0;34m(\u001b[0m\u001b[0;34m'ICA failed to converge'\u001b[0m\u001b[0;34m)\u001b[0m\u001b[0;34m)\u001b[0m\u001b[0;34m\u001b[0m\u001b[0m\n",
      "\u001b[0;32m/home/data/nbc/data-analysis/env3/lib/python3.6/site-packages/pandas/core/indexing.py\u001b[0m in \u001b[0;36m__getitem__\u001b[0;34m(self, key)\u001b[0m\n\u001b[1;32m   1476\u001b[0m \u001b[0;34m\u001b[0m\u001b[0m\n\u001b[1;32m   1477\u001b[0m             \u001b[0mmaybe_callable\u001b[0m \u001b[0;34m=\u001b[0m \u001b[0mcom\u001b[0m\u001b[0;34m.\u001b[0m\u001b[0m_apply_if_callable\u001b[0m\u001b[0;34m(\u001b[0m\u001b[0mkey\u001b[0m\u001b[0;34m,\u001b[0m \u001b[0mself\u001b[0m\u001b[0;34m.\u001b[0m\u001b[0mobj\u001b[0m\u001b[0;34m)\u001b[0m\u001b[0;34m\u001b[0m\u001b[0m\n\u001b[0;32m-> 1478\u001b[0;31m             \u001b[0;32mreturn\u001b[0m \u001b[0mself\u001b[0m\u001b[0;34m.\u001b[0m\u001b[0m_getitem_axis\u001b[0m\u001b[0;34m(\u001b[0m\u001b[0mmaybe_callable\u001b[0m\u001b[0;34m,\u001b[0m \u001b[0maxis\u001b[0m\u001b[0;34m=\u001b[0m\u001b[0maxis\u001b[0m\u001b[0;34m)\u001b[0m\u001b[0;34m\u001b[0m\u001b[0m\n\u001b[0m\u001b[1;32m   1479\u001b[0m \u001b[0;34m\u001b[0m\u001b[0m\n\u001b[1;32m   1480\u001b[0m     \u001b[0;32mdef\u001b[0m \u001b[0m_is_scalar_access\u001b[0m\u001b[0;34m(\u001b[0m\u001b[0mself\u001b[0m\u001b[0;34m,\u001b[0m \u001b[0mkey\u001b[0m\u001b[0;34m)\u001b[0m\u001b[0;34m:\u001b[0m\u001b[0;34m\u001b[0m\u001b[0m\n",
      "\u001b[0;32m/home/data/nbc/data-analysis/env3/lib/python3.6/site-packages/pandas/core/indexing.py\u001b[0m in \u001b[0;36m_getitem_axis\u001b[0;34m(self, key, axis)\u001b[0m\n\u001b[1;32m   2100\u001b[0m \u001b[0;34m\u001b[0m\u001b[0m\n\u001b[1;32m   2101\u001b[0m             \u001b[0;31m# validate the location\u001b[0m\u001b[0;34m\u001b[0m\u001b[0;34m\u001b[0m\u001b[0m\n\u001b[0;32m-> 2102\u001b[0;31m             \u001b[0mself\u001b[0m\u001b[0;34m.\u001b[0m\u001b[0m_validate_integer\u001b[0m\u001b[0;34m(\u001b[0m\u001b[0mkey\u001b[0m\u001b[0;34m,\u001b[0m \u001b[0maxis\u001b[0m\u001b[0;34m)\u001b[0m\u001b[0;34m\u001b[0m\u001b[0m\n\u001b[0m\u001b[1;32m   2103\u001b[0m \u001b[0;34m\u001b[0m\u001b[0m\n\u001b[1;32m   2104\u001b[0m             \u001b[0;32mreturn\u001b[0m \u001b[0mself\u001b[0m\u001b[0;34m.\u001b[0m\u001b[0m_get_loc\u001b[0m\u001b[0;34m(\u001b[0m\u001b[0mkey\u001b[0m\u001b[0;34m,\u001b[0m \u001b[0maxis\u001b[0m\u001b[0;34m=\u001b[0m\u001b[0maxis\u001b[0m\u001b[0;34m)\u001b[0m\u001b[0;34m\u001b[0m\u001b[0m\n",
      "\u001b[0;32m/home/data/nbc/data-analysis/env3/lib/python3.6/site-packages/pandas/core/indexing.py\u001b[0m in \u001b[0;36m_validate_integer\u001b[0;34m(self, key, axis)\u001b[0m\n\u001b[1;32m   2007\u001b[0m         \u001b[0ml\u001b[0m \u001b[0;34m=\u001b[0m \u001b[0mlen\u001b[0m\u001b[0;34m(\u001b[0m\u001b[0max\u001b[0m\u001b[0;34m)\u001b[0m\u001b[0;34m\u001b[0m\u001b[0m\n\u001b[1;32m   2008\u001b[0m         \u001b[0;32mif\u001b[0m \u001b[0mkey\u001b[0m \u001b[0;34m>=\u001b[0m \u001b[0ml\u001b[0m \u001b[0;32mor\u001b[0m \u001b[0mkey\u001b[0m \u001b[0;34m<\u001b[0m \u001b[0;34m-\u001b[0m\u001b[0ml\u001b[0m\u001b[0;34m:\u001b[0m\u001b[0;34m\u001b[0m\u001b[0m\n\u001b[0;32m-> 2009\u001b[0;31m             \u001b[0;32mraise\u001b[0m \u001b[0mIndexError\u001b[0m\u001b[0;34m(\u001b[0m\u001b[0;34m\"single positional indexer is out-of-bounds\"\u001b[0m\u001b[0;34m)\u001b[0m\u001b[0;34m\u001b[0m\u001b[0m\n\u001b[0m\u001b[1;32m   2010\u001b[0m \u001b[0;34m\u001b[0m\u001b[0m\n\u001b[1;32m   2011\u001b[0m     \u001b[0;32mdef\u001b[0m \u001b[0m_getitem_tuple\u001b[0m\u001b[0;34m(\u001b[0m\u001b[0mself\u001b[0m\u001b[0;34m,\u001b[0m \u001b[0mtup\u001b[0m\u001b[0;34m)\u001b[0m\u001b[0;34m:\u001b[0m\u001b[0;34m\u001b[0m\u001b[0m\n",
      "\u001b[0;31mIndexError\u001b[0m: single positional indexer is out-of-bounds"
     ]
    }
   ],
   "source": [
    "columns = ['label', 'failure', 'duration', 'accepted', 'rejected', 'ignored'] + all_codes\n",
    "summary_df = pd.DataFrame(columns=columns)\n",
    "\n",
    "ted_dirs = sorted(glob(op.join(base_dir, 'logging-seed*')))\n",
    "comptables = sorted(glob(op.join(base_dir, 'sub-*_seed-*_comptable.txt')))\n",
    "labels = [op.basename(c) for c in comptables]\n",
    "labels = [c.replace('_comptable.txt', '') for c in labels]\n",
    "\n",
    "for label in labels:\n",
    "    sub, seed = label.split('_')\n",
    "    seed = seed.split('-')[-1]\n",
    "    comptable = pd.read_csv(\n",
    "        op.join(base_dir, '{0}_seed-{1}_comptable.txt'.format(sub, seed)), sep='\\t')\n",
    "\n",
    "    log_df = pd.read_csv(op.join(base_dir, '{0}_seed-{1}_log.tsv'.format(sub, seed)),\n",
    "                         sep='\\t', header=None,\n",
    "                         names=['time', 'module', 'level', 'message'])\n",
    "    log_df['time'] = pd.to_datetime(log_df['time'])\n",
    "    duration = log_df['time'].iloc[-1] - log_df['time'].iloc[0]\n",
    "    minutes = duration.total_seconds() / 60.\n",
    "    failure = any(log_df['message'].str.contains('ICA failed to converge'))\n",
    "    rationales = comptable['rationale'].tolist()\n",
    "    classifications = comptable['classification'].tolist()\n",
    "    rationales = [[m for m in r.split(';') if m] for r in rationales if isinstance(r, str)]\n",
    "    rationales = [item for sublist in rationales for item in sublist]\n",
    "    counter = dict(Counter(rationales))\n",
    "    counter['subject'] = sub\n",
    "    counter['seed'] = seed\n",
    "\n",
    "    counter2 = dict(Counter(classifications))\n",
    "    for k, v in counter2.items():\n",
    "        counter[k] = v\n",
    "\n",
    "    counter['failure'] = failure\n",
    "    counter['duration'] = minutes\n",
    "    summary_df = summary_df.append(counter, ignore_index=True).fillna(0)"
   ]
  },
  {
   "cell_type": "code",
   "execution_count": null,
   "metadata": {
    "scrolled": false
   },
   "outputs": [],
   "source": [
    "summary_df"
   ]
  },
  {
   "cell_type": "code",
   "execution_count": null,
   "metadata": {},
   "outputs": [],
   "source": [
    "fig, ax = plt.subplots(figsize=(8, 10))\n",
    "sns.boxplot(x=\"failure\", y=\"duration\", data=summary_df,\n",
    "            whis=\"range\", palette=\"vlag\")\n",
    "\n",
    "# Add in points to show each observation\n",
    "sns.swarmplot(x=\"failure\", y=\"duration\", data=summary_df,\n",
    "              size=20, color=\".3\", linewidth=0)\n",
    "\n",
    "ax.set_ylabel('Duration (minutes)')\n",
    "ax.set_xlabel('ICA Convergence?')\n",
    "ax.set_xticklabels(['Yes', 'No'])\n",
    "fig.show()"
   ]
  },
  {
   "cell_type": "code",
   "execution_count": null,
   "metadata": {},
   "outputs": [],
   "source": [
    "clf_df = summary_df.melt(value_vars=['accepted', 'rejected', 'ignored'],\n",
    "                         var_name='classification', value_name='n components',\n",
    "                         id_vars=['label', 'failure'])\n",
    "clf_df2 = summary_df.melt(value_vars=['accepted', 'rejected', 'ignored'],\n",
    "                         var_name='classification', value_name='n components',\n",
    "                         id_vars=['label'])\n",
    "clf_df2['failure'] = 'Total'\n",
    "df2 = pd.concat((clf_df, clf_df2))"
   ]
  },
  {
   "cell_type": "code",
   "execution_count": null,
   "metadata": {},
   "outputs": [],
   "source": [
    "#sns.swarmplot(x='classification', y='n components', data=clf_df)\n",
    "fig, axes = plt.subplots(ncols=2, sharey=True, sharex=True, figsize=(8, 10))\n",
    "sns.boxplot(x=\"classification\", y=\"n components\", data=clf_df,\n",
    "            whis=\"range\", palette=\"vlag\", ax=axes[0])\n",
    "\n",
    "# Add in points to show each observation\n",
    "sns.swarmplot(x=\"classification\", y=\"n components\", data=clf_df,\n",
    "              size=5, color=\".3\", linewidth=0, ax=axes[0])\n",
    "\n",
    "sns.boxplot(x=\"classification\", y=\"n components\", data=clf_df,\n",
    "            whis=\"range\", palette=\"vlag\", ax=axes[1], hue='failure')\n",
    "\n",
    "# Add in points to show each observation\n",
    "sns.swarmplot(x=\"classification\", y=\"n components\", data=clf_df,\n",
    "              size=5, color=\".3\", linewidth=0, ax=axes[1], hue='failure', dodge=True)\n",
    "\n",
    "axes[0].set_ylabel('Number of Components')\n",
    "axes[0].set_xlabel('Classification')\n",
    "axes[1].set_xlabel('Classification')\n",
    "axes[1].set_ylabel('')\n",
    "axes[0].set_xticklabels([l.get_text().title() for l in axes[0].get_xticklabels()])\n",
    "\n",
    "fig.tight_layout()\n",
    "fig.show()"
   ]
  },
  {
   "cell_type": "code",
   "execution_count": null,
   "metadata": {},
   "outputs": [],
   "source": [
    "#sns.swarmplot(x='classification', y='n components', data=clf_df)\n",
    "fig, ax = plt.subplots(figsize=(8, 10))\n",
    "sns.boxplot(x=\"classification\", y=\"n components\", data=df2,\n",
    "            whis=\"range\", palette=\"vlag\", hue='failure')\n",
    "\n",
    "# Add in points to show each observation\n",
    "sns.swarmplot(x=\"classification\", y=\"n components\", hue='failure', data=df2,\n",
    "              size=5, color=\".3\", linewidth=0, dodge=True)\n",
    "\n",
    "ax.set_ylabel('Number of Components')\n",
    "ax.set_xlabel('Classification')\n",
    "ax.set_xticklabels([l.get_text().title() for l in ax.get_xticklabels()])\n",
    "fig.show()"
   ]
  }
 ],
 "metadata": {
  "kernelspec": {
   "display_name": "Python 3",
   "language": "python",
   "name": "python3"
  },
  "language_info": {
   "codemirror_mode": {
    "name": "ipython",
    "version": 3
   },
   "file_extension": ".py",
   "mimetype": "text/x-python",
   "name": "python",
   "nbconvert_exporter": "python",
   "pygments_lexer": "ipython3",
   "version": "3.6.2"
  }
 },
 "nbformat": 4,
 "nbformat_minor": 2
}
