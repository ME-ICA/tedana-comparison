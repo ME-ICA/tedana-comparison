{
 "cells": [
  {
   "cell_type": "code",
   "execution_count": 1,
   "metadata": {
    "collapsed": false
   },
   "outputs": [
    {
     "name": "stderr",
     "output_type": "stream",
     "text": [
      "/home/data/nbc/data-analysis/env/lib/python2.7/site-packages/h5py/__init__.py:34: FutureWarning: Conversion of the second argument of issubdtype from `float` to `np.floating` is deprecated. In future, it will be treated as `np.float64 == np.dtype(float).type`.\n",
      "  from ._conv import register_converters as _register_converters\n"
     ]
    }
   ],
   "source": [
    "from bids.layout import BIDSLayout\n",
    "import pandas as pd\n",
    "from nipype.interfaces.base import Bunch"
   ]
  },
  {
   "cell_type": "code",
   "execution_count": 2,
   "metadata": {
    "collapsed": false
   },
   "outputs": [],
   "source": [
    "data_dir = '/home/data/nbc/external-datasets/ds001491/'\n",
    "layout = BIDSLayout(data_dir)\n",
    "sub = sorted(layout.get_subjects())[0]\n",
    "#for sub in layout.get_subjects():\n",
    "evs = layout.get(task='images', suffix='events', subject=sub)[0]\n",
    "df = pd.read_csv(evs.path, sep='\\t')\n",
    "im_file = layout.get(subject=sub, task='images', extensions='nii.gz')[0].path\n",
    "preproc_file = ('/home/data/nbc/external-datasets/ds001491/derivatives/afni-step1/'\n",
    "                'sub-01/func/sub-01_task-images_echo-1_desc-realign_bold.nii.gz')\n",
    "t_r = layout.get_metadata(im_file)['RepetitionTime']"
   ]
  },
  {
   "cell_type": "code",
   "execution_count": 3,
   "metadata": {
    "collapsed": false
   },
   "outputs": [],
   "source": [
    "onsets, durations, amplitudes = [], [], []\n",
    "condnames = ['Image', 'Rating']\n",
    "\n",
    "for tt in condnames:\n",
    "    tt_df = df.loc[df['trial_action'] == tt]\n",
    "    onsets.append(tt_df['onset'].tolist())\n",
    "    durations.append(tt_df['duration'].tolist())\n",
    "    amplitudes.append(tt_df['intensity_response'].tolist())\n",
    "\n",
    "subject_info = Bunch(conditions=condnames, onsets=onsets, durations=durations)"
   ]
  },
  {
   "cell_type": "code",
   "execution_count": 4,
   "metadata": {
    "collapsed": false
   },
   "outputs": [],
   "source": [
    "from nipype.algorithms import modelgen\n",
    "from nipype.interfaces.nipy import model\n",
    "s = modelgen.SpecifyModel()\n",
    "s.inputs.input_units = 'secs'\n",
    "s.inputs.functional_runs = [preproc_file]\n",
    "s.inputs.time_repetition = t_r\n",
    "s.inputs.subject_info = [subject_info]\n",
    "s.inputs.high_pass_filter_cutoff = 128.\n",
    "out = s.run()"
   ]
  },
  {
   "cell_type": "code",
   "execution_count": 5,
   "metadata": {
    "collapsed": false
   },
   "outputs": [],
   "source": [
    "fit = model.FitGLM()\n",
    "fit.inputs.TR = t_r\n",
    "fit.inputs.session_info = out.outputs.session_info\n",
    "fit.inputs.plot_design_matrix = True\n",
    "fit.inputs.save_residuals = True"
   ]
  },
  {
   "cell_type": "code",
   "execution_count": 6,
   "metadata": {
    "collapsed": false
   },
   "outputs": [
    {
     "ename": "TypeError",
     "evalue": "__init__() takes exactly 2 arguments (1 given)",
     "output_type": "error",
     "traceback": [
      "\u001b[1;31m---------------------------------------------------------------------------\u001b[0m",
      "\u001b[1;31mTypeError\u001b[0m                                 Traceback (most recent call last)",
      "\u001b[1;32m<ipython-input-6-33c1c20e0cbc>\u001b[0m in \u001b[0;36m<module>\u001b[1;34m()\u001b[0m\n\u001b[1;32m----> 1\u001b[1;33m \u001b[0mout2\u001b[0m \u001b[1;33m=\u001b[0m \u001b[0mfit\u001b[0m\u001b[1;33m.\u001b[0m\u001b[0mrun\u001b[0m\u001b[1;33m(\u001b[0m\u001b[1;33m)\u001b[0m\u001b[1;33m\u001b[0m\u001b[0m\n\u001b[0m",
      "\u001b[1;32m/home/data/nbc/data-analysis/env/lib/python2.7/site-packages/nipype/interfaces/base/core.pyc\u001b[0m in \u001b[0;36mrun\u001b[1;34m(self, cwd, ignore_exception, **inputs)\u001b[0m\n\u001b[0;32m    509\u001b[0m         \u001b[1;32mtry\u001b[0m\u001b[1;33m:\u001b[0m\u001b[1;33m\u001b[0m\u001b[0m\n\u001b[0;32m    510\u001b[0m             \u001b[0mruntime\u001b[0m \u001b[1;33m=\u001b[0m \u001b[0mself\u001b[0m\u001b[1;33m.\u001b[0m\u001b[0m_pre_run_hook\u001b[0m\u001b[1;33m(\u001b[0m\u001b[0mruntime\u001b[0m\u001b[1;33m)\u001b[0m\u001b[1;33m\u001b[0m\u001b[0m\n\u001b[1;32m--> 511\u001b[1;33m             \u001b[0mruntime\u001b[0m \u001b[1;33m=\u001b[0m \u001b[0mself\u001b[0m\u001b[1;33m.\u001b[0m\u001b[0m_run_interface\u001b[0m\u001b[1;33m(\u001b[0m\u001b[0mruntime\u001b[0m\u001b[1;33m)\u001b[0m\u001b[1;33m\u001b[0m\u001b[0m\n\u001b[0m\u001b[0;32m    512\u001b[0m             \u001b[0mruntime\u001b[0m \u001b[1;33m=\u001b[0m \u001b[0mself\u001b[0m\u001b[1;33m.\u001b[0m\u001b[0m_post_run_hook\u001b[0m\u001b[1;33m(\u001b[0m\u001b[0mruntime\u001b[0m\u001b[1;33m)\u001b[0m\u001b[1;33m\u001b[0m\u001b[0m\n\u001b[0;32m    513\u001b[0m             \u001b[0moutputs\u001b[0m \u001b[1;33m=\u001b[0m \u001b[0mself\u001b[0m\u001b[1;33m.\u001b[0m\u001b[0maggregate_outputs\u001b[0m\u001b[1;33m(\u001b[0m\u001b[0mruntime\u001b[0m\u001b[1;33m)\u001b[0m\u001b[1;33m\u001b[0m\u001b[0m\n",
      "\u001b[1;32m/home/data/nbc/data-analysis/env/lib/python2.7/site-packages/nipype/interfaces/nipy/model.pyc\u001b[0m in \u001b[0;36m_run_interface\u001b[1;34m(self, runtime)\u001b[0m\n\u001b[0;32m    177\u001b[0m             \u001b[0mpylab\u001b[0m\u001b[1;33m.\u001b[0m\u001b[0mclf\u001b[0m\u001b[1;33m(\u001b[0m\u001b[1;33m)\u001b[0m\u001b[1;33m\u001b[0m\u001b[0m\n\u001b[0;32m    178\u001b[0m \u001b[1;33m\u001b[0m\u001b[0m\n\u001b[1;32m--> 179\u001b[1;33m         \u001b[0mglm\u001b[0m \u001b[1;33m=\u001b[0m \u001b[0mGLM\u001b[0m\u001b[1;33m.\u001b[0m\u001b[0mGeneralLinearModel\u001b[0m\u001b[1;33m(\u001b[0m\u001b[1;33m)\u001b[0m\u001b[1;33m\u001b[0m\u001b[0m\n\u001b[0m\u001b[0;32m    180\u001b[0m         glm.fit(\n\u001b[0;32m    181\u001b[0m             \u001b[0mtimeseries\u001b[0m\u001b[1;33m.\u001b[0m\u001b[0mT\u001b[0m\u001b[1;33m,\u001b[0m\u001b[1;33m\u001b[0m\u001b[0m\n",
      "\u001b[1;31mTypeError\u001b[0m: __init__() takes exactly 2 arguments (1 given)"
     ]
    }
   ],
   "source": [
    "out2 = fit.run()"
   ]
  },
  {
   "cell_type": "code",
   "execution_count": null,
   "metadata": {
    "collapsed": true
   },
   "outputs": [],
   "source": []
  }
 ],
 "metadata": {
  "kernelspec": {
   "display_name": "Python 2",
   "language": "python",
   "name": "python2"
  },
  "language_info": {
   "codemirror_mode": {
    "name": "ipython",
    "version": 2
   },
   "file_extension": ".py",
   "mimetype": "text/x-python",
   "name": "python",
   "nbconvert_exporter": "python",
   "pygments_lexer": "ipython2",
   "version": "2.7.11"
  }
 },
 "nbformat": 4,
 "nbformat_minor": 2
}
