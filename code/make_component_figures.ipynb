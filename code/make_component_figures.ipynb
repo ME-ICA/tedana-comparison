{
 "cells": [
  {
   "cell_type": "markdown",
   "metadata": {},
   "source": [
    "Before running this, make sure table-based run with v2.5 and sklearn is done:\n",
    "\n",
    "```\n",
    "cd /Users/tsalo/Documents/tsalo/tedana-comparison/sandbox/\n",
    "\n",
    "tedana -d /Users/tsalo/Documents/tsalo/tedana_comparison/e5_data/p06.SBJ01_S09_Task11_e1.sm.nii.gz /Users/tsalo/Documents/tsalo/tedana_comparison/e5_data/p06.SBJ01_S09_Task11_e2.sm.nii.gz /Users/tsalo/Documents/tsalo/tedana_comparison/e5_data/p06.SBJ01_S09_Task11_e3.sm.nii.gz /Users/tsalo/Documents/tsalo/tedana_comparison/e5_data/p06.SBJ01_S09_Task11_e4.sm.nii.gz /Users/tsalo/Documents/tsalo/tedana_comparison/e5_data/p06.SBJ01_S09_Task11_e5.sm.nii.gz -e 15.4 29.7 44.0 58.3 72.6 --label mlepca --no_gscontrol\n",
    "```"
   ]
  },
  {
   "cell_type": "code",
   "execution_count": 1,
   "metadata": {
    "scrolled": true
   },
   "outputs": [
    {
     "name": "stderr",
     "output_type": "stream",
     "text": [
      "/Users/tsalo/Documents/tsalo/niworkflows/niworkflows/__init__.py:24: UserWarning: \n",
      "This call to matplotlib.use() has no effect because the backend has already\n",
      "been chosen; matplotlib.use() must be called *before* pylab, matplotlib.pyplot,\n",
      "or matplotlib.backends is imported for the first time.\n",
      "\n",
      "The backend was *originally* set to 'module://ipykernel.pylab.backend_inline' by the following code:\n",
      "  File \"/Users/tsalo/anaconda/envs/python3/lib/python3.6/runpy.py\", line 193, in _run_module_as_main\n",
      "    \"__main__\", mod_spec)\n",
      "  File \"/Users/tsalo/anaconda/envs/python3/lib/python3.6/runpy.py\", line 85, in _run_code\n",
      "    exec(code, run_globals)\n",
      "  File \"/Users/tsalo/anaconda/envs/python3/lib/python3.6/site-packages/ipykernel/__main__.py\", line 3, in <module>\n",
      "    app.launch_new_instance()\n",
      "  File \"/Users/tsalo/anaconda/envs/python3/lib/python3.6/site-packages/traitlets/config/application.py\", line 658, in launch_instance\n",
      "    app.start()\n",
      "  File \"/Users/tsalo/anaconda/envs/python3/lib/python3.6/site-packages/ipykernel/kernelapp.py\", line 486, in start\n",
      "    self.io_loop.start()\n",
      "  File \"/Users/tsalo/anaconda/envs/python3/lib/python3.6/site-packages/tornado/platform/asyncio.py\", line 112, in start\n",
      "    self.asyncio_loop.run_forever()\n",
      "  File \"/Users/tsalo/anaconda/envs/python3/lib/python3.6/asyncio/base_events.py\", line 421, in run_forever\n",
      "    self._run_once()\n",
      "  File \"/Users/tsalo/anaconda/envs/python3/lib/python3.6/asyncio/base_events.py\", line 1431, in _run_once\n",
      "    handle._run()\n",
      "  File \"/Users/tsalo/anaconda/envs/python3/lib/python3.6/asyncio/events.py\", line 145, in _run\n",
      "    self._callback(*self._args)\n",
      "  File \"/Users/tsalo/anaconda/envs/python3/lib/python3.6/site-packages/tornado/platform/asyncio.py\", line 102, in _handle_events\n",
      "    handler_func(fileobj, events)\n",
      "  File \"/Users/tsalo/anaconda/envs/python3/lib/python3.6/site-packages/tornado/stack_context.py\", line 276, in null_wrapper\n",
      "    return fn(*args, **kwargs)\n",
      "  File \"/Users/tsalo/anaconda/envs/python3/lib/python3.6/site-packages/zmq/eventloop/zmqstream.py\", line 450, in _handle_events\n",
      "    self._handle_recv()\n",
      "  File \"/Users/tsalo/anaconda/envs/python3/lib/python3.6/site-packages/zmq/eventloop/zmqstream.py\", line 480, in _handle_recv\n",
      "    self._run_callback(callback, msg)\n",
      "  File \"/Users/tsalo/anaconda/envs/python3/lib/python3.6/site-packages/zmq/eventloop/zmqstream.py\", line 432, in _run_callback\n",
      "    callback(*args, **kwargs)\n",
      "  File \"/Users/tsalo/anaconda/envs/python3/lib/python3.6/site-packages/tornado/stack_context.py\", line 276, in null_wrapper\n",
      "    return fn(*args, **kwargs)\n",
      "  File \"/Users/tsalo/anaconda/envs/python3/lib/python3.6/site-packages/ipykernel/kernelbase.py\", line 283, in dispatcher\n",
      "    return self.dispatch_shell(stream, msg)\n",
      "  File \"/Users/tsalo/anaconda/envs/python3/lib/python3.6/site-packages/ipykernel/kernelbase.py\", line 233, in dispatch_shell\n",
      "    handler(stream, idents, msg)\n",
      "  File \"/Users/tsalo/anaconda/envs/python3/lib/python3.6/site-packages/ipykernel/kernelbase.py\", line 399, in execute_request\n",
      "    user_expressions, allow_stdin)\n",
      "  File \"/Users/tsalo/anaconda/envs/python3/lib/python3.6/site-packages/ipykernel/ipkernel.py\", line 208, in do_execute\n",
      "    res = shell.run_cell(code, store_history=store_history, silent=silent)\n",
      "  File \"/Users/tsalo/anaconda/envs/python3/lib/python3.6/site-packages/ipykernel/zmqshell.py\", line 537, in run_cell\n",
      "    return super(ZMQInteractiveShell, self).run_cell(*args, **kwargs)\n",
      "  File \"/Users/tsalo/anaconda/envs/python3/lib/python3.6/site-packages/IPython/core/interactiveshell.py\", line 2728, in run_cell\n",
      "    interactivity=interactivity, compiler=compiler, result=result)\n",
      "  File \"/Users/tsalo/anaconda/envs/python3/lib/python3.6/site-packages/IPython/core/interactiveshell.py\", line 2850, in run_ast_nodes\n",
      "    if self.run_code(code, result):\n",
      "  File \"/Users/tsalo/anaconda/envs/python3/lib/python3.6/site-packages/IPython/core/interactiveshell.py\", line 2910, in run_code\n",
      "    exec(code_obj, self.user_global_ns, self.user_ns)\n",
      "  File \"<ipython-input-1-640fc5279236>\", line 1, in <module>\n",
      "    get_ipython().run_line_magic('matplotlib', 'inline')\n",
      "  File \"/Users/tsalo/anaconda/envs/python3/lib/python3.6/site-packages/IPython/core/interactiveshell.py\", line 2095, in run_line_magic\n",
      "    result = fn(*args,**kwargs)\n",
      "  File \"<decorator-gen-107>\", line 2, in matplotlib\n",
      "  File \"/Users/tsalo/anaconda/envs/python3/lib/python3.6/site-packages/IPython/core/magic.py\", line 187, in <lambda>\n",
      "    call = lambda f, *a, **k: f(*a, **k)\n",
      "  File \"/Users/tsalo/anaconda/envs/python3/lib/python3.6/site-packages/IPython/core/magics/pylab.py\", line 99, in matplotlib\n",
      "    gui, backend = self.shell.enable_matplotlib(args.gui)\n",
      "  File \"/Users/tsalo/anaconda/envs/python3/lib/python3.6/site-packages/IPython/core/interactiveshell.py\", line 2978, in enable_matplotlib\n",
      "    pt.activate_matplotlib(backend)\n",
      "  File \"/Users/tsalo/anaconda/envs/python3/lib/python3.6/site-packages/IPython/core/pylabtools.py\", line 308, in activate_matplotlib\n",
      "    matplotlib.pyplot.switch_backend(backend)\n",
      "  File \"/Users/tsalo/anaconda/envs/python3/lib/python3.6/site-packages/matplotlib/pyplot.py\", line 231, in switch_backend\n",
      "    matplotlib.use(newbackend, warn=False, force=True)\n",
      "  File \"/Users/tsalo/anaconda/envs/python3/lib/python3.6/site-packages/matplotlib/__init__.py\", line 1410, in use\n",
      "    reload(sys.modules['matplotlib.backends'])\n",
      "  File \"/Users/tsalo/anaconda/envs/python3/lib/python3.6/importlib/__init__.py\", line 166, in reload\n",
      "    _bootstrap._exec(spec, module)\n",
      "  File \"/Users/tsalo/anaconda/envs/python3/lib/python3.6/site-packages/matplotlib/backends/__init__.py\", line 16, in <module>\n",
      "    line for line in traceback.format_stack()\n",
      "\n",
      "\n",
      "  matplotlib.use('Agg')\n"
     ]
    }
   ],
   "source": [
    "%matplotlib inline\n",
    "from glob import glob\n",
    "from os import mkdir\n",
    "import os.path as op\n",
    "\n",
    "import numpy as np\n",
    "import pandas as pd\n",
    "import nibabel as nib\n",
    "from niworkflows.viz.utils import plot_components"
   ]
  },
  {
   "cell_type": "code",
   "execution_count": 5,
   "metadata": {},
   "outputs": [],
   "source": [
    "in_dir = '/Users/tsalo/Documents/tsalo/tedana-comparison/sandbox/TED.p06.lintest/'\n",
    "fig_dir = '../reports/figures/'\n",
    "\n",
    "mapper = {'accepted': 'green',\n",
    "          'rejected': 'red',\n",
    "          'acceptedLowVariance': 'gray'}"
   ]
  },
  {
   "cell_type": "code",
   "execution_count": 3,
   "metadata": {},
   "outputs": [
    {
     "name": "stdout",
     "output_type": "stream",
     "text": [
      "CPU times: user 3min 38s, sys: 5.19 s, total: 3min 43s\n",
      "Wall time: 3min 33s\n"
     ]
    },
    {
     "data": {
      "text/plain": [
       "<Figure size 702x4896 with 0 Axes>"
      ]
     },
     "metadata": {},
     "output_type": "display_data"
    }
   ],
   "source": [
    "%%time\n",
    "ct_file = op.join(in_dir, 'comp_table_pca.txt')\n",
    "ct_df = pd.read_csv(ct_file, sep='\\t')\n",
    "ct_df['color'] = ct_df['classification'].map(mapper)\n",
    "comp_dict = dict(zip(ct_df['component'], ct_df['color']))\n",
    "\n",
    "temp_arr = ct_df[['component', 'variance explained']].values\n",
    "stats_file = op.join(fig_dir, 'mepca_ICstats')\n",
    "np.savetxt(stats_file, temp_arr)\n",
    "\n",
    "ts_file = op.join(in_dir, 'mepca_mix.1D')\n",
    "weights_file = op.join(in_dir, 'mepca_OC_components.nii')\n",
    "\n",
    "in_file = op.join(in_dir, 'ts_OC.nii')  # shouldn't really matter\n",
    "tr = 2.\n",
    "\n",
    "# Plot PCA components\n",
    "plot_components(ts_file, None, stats_file, weights_file, in_file, tr=tr,\n",
    "                out_file=op.join(fig_dir, 'mepca_reportlet.svg'),\n",
    "                comp_dict=comp_dict)"
   ]
  },
  {
   "cell_type": "code",
   "execution_count": 8,
   "metadata": {},
   "outputs": [
    {
     "name": "stdout",
     "output_type": "stream",
     "text": [
      "CPU times: user 37.8 s, sys: 1.11 s, total: 38.9 s\n",
      "Wall time: 34 s\n"
     ]
    },
    {
     "data": {
      "text/plain": [
       "<Figure size 702x1713.6 with 0 Axes>"
      ]
     },
     "metadata": {},
     "output_type": "display_data"
    }
   ],
   "source": [
    "%%time\n",
    "ct_file = op.join(in_dir, 'comp_table_ica.txt')\n",
    "ct_df = pd.read_csv(ct_file, sep='\\t')\n",
    "ct_df['color'] = ct_df['classification'].map(mapper)\n",
    "comp_dict = dict(zip(ct_df['component'], ct_df['color']))\n",
    "\n",
    "temp_arr = ct_df[['component', 'variance explained']].values\n",
    "stats_file = op.join(fig_dir, 'mepca_ICstats')\n",
    "np.savetxt(stats_file, temp_arr)\n",
    "\n",
    "ts_file = op.join(in_dir, 'meica_mix.1D')\n",
    "weights_file = op.join(in_dir, 'betas_OC.nii')\n",
    "\n",
    "in_file = op.join(in_dir, 'ts_OC.nii')  # shouldn't really matter\n",
    "tr = 2.\n",
    "\n",
    "# Plot PCA components\n",
    "plot_components(ts_file, None, stats_file, weights_file, in_file, tr=tr,\n",
    "                out_file=op.join(fig_dir, 'meica_reportlet_no_orthog.svg'),\n",
    "                comp_dict=comp_dict)"
   ]
  },
  {
   "cell_type": "code",
   "execution_count": 9,
   "metadata": {},
   "outputs": [
    {
     "name": "stdout",
     "output_type": "stream",
     "text": [
      "CPU times: user 39 s, sys: 1.2 s, total: 40.2 s\n",
      "Wall time: 35.7 s\n"
     ]
    },
    {
     "data": {
      "text/plain": [
       "<Figure size 702x1713.6 with 0 Axes>"
      ]
     },
     "metadata": {},
     "output_type": "display_data"
    }
   ],
   "source": [
    "%%time\n",
    "ct_file = op.join(in_dir, 'comp_table_ica.txt')\n",
    "ct_df = pd.read_csv(ct_file, sep='\\t')\n",
    "ct_df['color'] = ct_df['classification'].map(mapper)\n",
    "comp_dict = dict(zip(ct_df['component'], ct_df['color']))\n",
    "\n",
    "temp_arr = ct_df[['component', 'variance explained']].values\n",
    "stats_file = op.join(fig_dir, 'mepca_ICstats')\n",
    "np.savetxt(stats_file, temp_arr)\n",
    "\n",
    "ts_file = op.join(in_dir, 'meica_mix_orth.1D')\n",
    "weights_file = op.join(in_dir, 'betas_OC.nii')\n",
    "\n",
    "in_file = op.join(in_dir, 'ts_OC.nii')  # shouldn't really matter\n",
    "tr = 2.\n",
    "\n",
    "# Plot PCA components\n",
    "plot_components(ts_file, None, stats_file, weights_file, in_file, tr=tr,\n",
    "                out_file=op.join(fig_dir, 'meica_reportlet.svg'),\n",
    "                comp_dict=comp_dict)"
   ]
  },
  {
   "cell_type": "code",
   "execution_count": null,
   "metadata": {},
   "outputs": [],
   "source": []
  }
 ],
 "metadata": {
  "kernelspec": {
   "display_name": "Python [conda env:python3]",
   "language": "python",
   "name": "conda-env-python3-py"
  },
  "language_info": {
   "codemirror_mode": {
    "name": "ipython",
    "version": 3
   },
   "file_extension": ".py",
   "mimetype": "text/x-python",
   "name": "python",
   "nbconvert_exporter": "python",
   "pygments_lexer": "ipython3",
   "version": "3.6.4"
  }
 },
 "nbformat": 4,
 "nbformat_minor": 2
}
