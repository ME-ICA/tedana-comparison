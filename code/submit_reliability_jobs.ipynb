{
 "cells": [
  {
   "cell_type": "code",
   "execution_count": 1,
   "metadata": {},
   "outputs": [],
   "source": [
    "import subprocess\n",
    "from time import sleep\n",
    "from os import remove\n",
    "import os.path as op"
   ]
  },
  {
   "cell_type": "code",
   "execution_count": 2,
   "metadata": {},
   "outputs": [],
   "source": [
    "with open('run_reliability.sub', 'r') as fo:\n",
    "    data = fo.read()\n",
    "\n",
    "for i in range(50):\n",
    "    temp_data = data.replace('{{SEED}}', str(i))\n",
    "    temp_file = op.abspath('jobfiles/temp_job_{0}.sub'.format(i))\n",
    "    with open(temp_file, 'w') as fo:\n",
    "        fo.write(temp_data)\n",
    "    \n",
    "    sub_str = 'bsub<{0}'.format(temp_file)\n",
    "    process = subprocess.Popen(sub_str, shell=True)\n",
    "    #remove(temp_file)"
   ]
  },
  {
   "cell_type": "code",
   "execution_count": null,
   "metadata": {},
   "outputs": [],
   "source": []
  }
 ],
 "metadata": {
  "kernelspec": {
   "display_name": "Python 3",
   "language": "python",
   "name": "python3"
  },
  "language_info": {
   "codemirror_mode": {
    "name": "ipython",
    "version": 3
   },
   "file_extension": ".py",
   "mimetype": "text/x-python",
   "name": "python",
   "nbconvert_exporter": "python",
   "pygments_lexer": "ipython3",
   "version": "3.6.2"
  }
 },
 "nbformat": 4,
 "nbformat_minor": 2
}
